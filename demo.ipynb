{
 "cells": [
  {
   "cell_type": "code",
   "execution_count": 20,
   "metadata": {},
   "outputs": [],
   "source": [
    "from algebra_stuff import *"
   ]
  },
  {
   "cell_type": "code",
   "execution_count": 21,
   "metadata": {},
   "outputs": [],
   "source": [
    "set_global_scope(globals())"
   ]
  },
  {
   "cell_type": "code",
   "execution_count": 22,
   "metadata": {},
   "outputs": [
    {
     "name": "stdout",
     "output_type": "stream",
     "text": [
      "Setting global symbol 'x'\n",
      "Setting global symbol 'y'\n",
      "Setting global symbol 'z'\n"
     ]
    }
   ],
   "source": [
    "R = PolyRing(n = 3)\n",
    "x, y, z = R.symbols"
   ]
  },
  {
   "cell_type": "code",
   "execution_count": 23,
   "metadata": {},
   "outputs": [],
   "source": [
    "I = ideal(x**2, y+z, z**2)"
   ]
  },
  {
   "cell_type": "code",
   "execution_count": 24,
   "metadata": {},
   "outputs": [
    {
     "name": "stdout",
     "output_type": "stream",
     "text": [
      "CC[x,y,z]\n",
      "\n",
      "<x²,z²,y+z>\n"
     ]
    }
   ],
   "source": [
    "print(R)\n",
    "print()\n",
    "print(I)"
   ]
  },
  {
   "cell_type": "code",
   "execution_count": 25,
   "metadata": {},
   "outputs": [
    {
     "data": {
      "text/plain": [
       "[x², z², y+z]"
      ]
     },
     "execution_count": 25,
     "metadata": {},
     "output_type": "execute_result"
    }
   ],
   "source": [
    "I.groebner_basis"
   ]
  },
  {
   "cell_type": "code",
   "execution_count": 26,
   "metadata": {},
   "outputs": [
    {
     "data": {
      "text/plain": [
       "[yz, z², x-z]"
      ]
     },
     "execution_count": 26,
     "metadata": {},
     "output_type": "execute_result"
    }
   ],
   "source": [
    "ideal(x-z, x*y, x**2).groebner_basis"
   ]
  },
  {
   "cell_type": "code",
   "execution_count": 27,
   "metadata": {},
   "outputs": [],
   "source": [
    "S = R//I"
   ]
  },
  {
   "cell_type": "code",
   "execution_count": 28,
   "metadata": {},
   "outputs": [],
   "source": [
    "M = I/I**2"
   ]
  },
  {
   "cell_type": "code",
   "execution_count": 29,
   "metadata": {},
   "outputs": [],
   "source": [
    "N = R/I"
   ]
  },
  {
   "cell_type": "code",
   "execution_count": 30,
   "metadata": {},
   "outputs": [
    {
     "name": "stdout",
     "output_type": "stream",
     "text": [
      "CC[x,y,z]\n",
      "\n",
      "<x²,z²,y+z>\n",
      "\n",
      " CC[x,y,z] \n",
      "―――――――――――\n",
      "<x²,z²,y+z>\n",
      "\n",
      "             <x²,z²,y+z>                               CC[x,y,z] \n",
      "―――――――――――――――――――――――――――――――――――――    module of    ―――――――――――\n",
      "<x⁴,x²z²,z⁴,x²y+x²z,yz²+z³,y²+2yz+z²>                 <x²,z²,y+z>\n",
      "\n",
      " CC[x,y,z]                   CC[x,y,z] \n",
      "―――――――――――    module of    ―――――――――――\n",
      "<x²,z²,y+z>                 <x²,z²,y+z>\n"
     ]
    }
   ],
   "source": [
    "print(R)\n",
    "print()\n",
    "print(I)\n",
    "print()\n",
    "print(S)\n",
    "print()\n",
    "print(M)\n",
    "print()\n",
    "print(N)"
   ]
  },
  {
   "cell_type": "code",
   "execution_count": 31,
   "metadata": {},
   "outputs": [],
   "source": [
    "Hom = HomSpace(M, N)"
   ]
  },
  {
   "cell_type": "code",
   "execution_count": 32,
   "metadata": {},
   "outputs": [
    {
     "data": {
      "text/plain": [
       "12"
      ]
     },
     "execution_count": 32,
     "metadata": {},
     "output_type": "execute_result"
    }
   ],
   "source": [
    "Hom.dim()"
   ]
  },
  {
   "cell_type": "code",
   "execution_count": 33,
   "metadata": {},
   "outputs": [],
   "source": [
    "H = HilbertScheme(R)"
   ]
  },
  {
   "cell_type": "code",
   "execution_count": 34,
   "metadata": {},
   "outputs": [],
   "source": [
    "T = H.tangent_space(I, use_scipy=False)"
   ]
  },
  {
   "cell_type": "code",
   "execution_count": 35,
   "metadata": {},
   "outputs": [
    {
     "data": {
      "text/plain": [
       "12"
      ]
     },
     "execution_count": 35,
     "metadata": {},
     "output_type": "execute_result"
    }
   ],
   "source": [
    "T.dim()"
   ]
  },
  {
   "cell_type": "code",
   "execution_count": 36,
   "metadata": {},
   "outputs": [
    {
     "data": {
      "text/plain": [
       "array([[0, 0, 0, ..., 0, 0, 0],\n",
       "       [0, 0, 0, ..., 0, 0, 0],\n",
       "       [0, 0, 0, ..., 0, 0, 0],\n",
       "       ...,\n",
       "       [0, 0, 0, ..., 0, 0, 0],\n",
       "       [0, 0, 0, ..., 0, 0.0, 0],\n",
       "       [0, 0, 0, ..., 1.0, 0, 0.0]], dtype=object)"
      ]
     },
     "execution_count": 36,
     "metadata": {},
     "output_type": "execute_result"
    }
   ],
   "source": [
    "T._constraints()"
   ]
  },
  {
   "cell_type": "code",
   "execution_count": 37,
   "metadata": {},
   "outputs": [
    {
     "data": {
      "text/plain": [
       "(48, 12)"
      ]
     },
     "execution_count": 37,
     "metadata": {},
     "output_type": "execute_result"
    }
   ],
   "source": [
    "T.basis().shape"
   ]
  },
  {
   "cell_type": "code",
   "execution_count": 38,
   "metadata": {},
   "outputs": [
    {
     "name": "stdout",
     "output_type": "stream",
     "text": [
      "[x³z, xz³, x³, x²z, xyz+xz², xz², z³, x², xy+xz, yz+z², z², y+z]\n",
      "[xz, x, z, 1]\n",
      "Image of x³z is :     0\n",
      "Image of xz³ is :     0\n",
      "Image of x³ is :     -xz\n",
      "Image of x²z is :     0\n",
      "Image of xyz+xz² is :     0\n",
      "Image of xz² is :     0\n",
      "Image of z³ is :     0\n",
      "Image of x² is :     -z\n",
      "Image of xy+xz is :     0\n",
      "Image of yz+z² is :     0\n",
      "Image of z² is :     0\n",
      "Image of y+z is :     0\n"
     ]
    }
   ],
   "source": [
    "hh = T.hom_space\n",
    "b = hh.basis_as_matrices()\n",
    "print(hh.M.basis)\n",
    "print(hh.N.basis)\n",
    "for f in hh.M.basis:\n",
    "    print(\"Image of\", f, \"is :    \", hh.apply_morphism(b[2], f))\n"
   ]
  },
  {
   "cell_type": "code",
   "execution_count": 41,
   "metadata": {},
   "outputs": [
    {
     "name": "stdout",
     "output_type": "stream",
     "text": [
      "f: -4x³z-2xz³-x³-4x²z+4xyz+xz²+z³+2x²+xy+xz-4yz-4z²-y-z\n",
      "image of f: 4xz+x+4z-2\n"
     ]
    }
   ],
   "source": [
    "b = hh.basis_as_morphisms()\n",
    "phi = b[0]\n",
    "f = phi.domain().random_element()\n",
    "print(\"f:\", f)\n",
    "print(\"image of f:\", phi(f))"
   ]
  },
  {
   "cell_type": "code",
   "execution_count": 40,
   "metadata": {},
   "outputs": [
    {
     "data": {
      "text/plain": [
       "12"
      ]
     },
     "execution_count": 40,
     "metadata": {},
     "output_type": "execute_result"
    }
   ],
   "source": [
    "T.dim()"
   ]
  },
  {
   "cell_type": "code",
   "execution_count": 41,
   "metadata": {},
   "outputs": [],
   "source": [
    "I = R.ideal(x**2, x*y**2, x*y*z, x*z**2, y**2*z**2, y*z**3, z**4, y**3-x*z)"
   ]
  },
  {
   "cell_type": "code",
   "execution_count": 42,
   "metadata": {},
   "outputs": [],
   "source": [
    "T = H.tangent_space(I)"
   ]
  },
  {
   "cell_type": "code",
   "execution_count": 43,
   "metadata": {},
   "outputs": [
    {
     "data": {
      "text/plain": [
       "45"
      ]
     },
     "execution_count": 43,
     "metadata": {},
     "output_type": "execute_result"
    }
   ],
   "source": [
    "T.dim()"
   ]
  },
  {
   "cell_type": "code",
   "execution_count": 44,
   "metadata": {},
   "outputs": [
    {
     "name": "stdout",
     "output_type": "stream",
     "text": [
      "Setting global symbol 'x'\n"
     ]
    }
   ],
   "source": [
    "R1 = PolyRing(n=1)\n",
    "x, = R1.symbols"
   ]
  },
  {
   "cell_type": "code",
   "execution_count": 45,
   "metadata": {},
   "outputs": [],
   "source": [
    "NH = DoubleNestedHilbertScheme([4, 3, 1], R1)"
   ]
  },
  {
   "cell_type": "code",
   "execution_count": 46,
   "metadata": {},
   "outputs": [
    {
     "data": {
      "text/plain": [
       "┌─────┬─────┬─────┬─────┐\n",
       "│ Z₀₀ │ Z₀₁ │ Z₀₂ │ Z₀₃ │\n",
       "├─────┼─────┼─────┼─────┘\n",
       "│ Z₁₀ │ Z₁₁ │ Z₁₂ │\n",
       "├─────┼─────┴─────┘\n",
       "│ Z₂₀ │\n",
       "└─────┘"
      ]
     },
     "execution_count": 46,
     "metadata": {},
     "output_type": "execute_result"
    }
   ],
   "source": [
    "NH"
   ]
  },
  {
   "cell_type": "code",
   "execution_count": 47,
   "metadata": {},
   "outputs": [],
   "source": [
    "NH = DoubleNestedHilbertScheme(diagram=[2, 2], R=R1)"
   ]
  },
  {
   "cell_type": "code",
   "execution_count": 48,
   "metadata": {},
   "outputs": [
    {
     "data": {
      "text/plain": [
       "┌─────┬─────┐\n",
       "│ Z₀₀ │ Z₀₁ │\n",
       "├─────┼─────┤\n",
       "│ Z₁₀ │ Z₁₁ │\n",
       "└─────┴─────┘"
      ]
     },
     "execution_count": 48,
     "metadata": {},
     "output_type": "execute_result"
    }
   ],
   "source": [
    "NH"
   ]
  },
  {
   "cell_type": "code",
   "execution_count": 49,
   "metadata": {},
   "outputs": [],
   "source": [
    "P = ideal(x)\n",
    "Q = ideal(x-1)\n",
    "one = ideal(1)"
   ]
  },
  {
   "cell_type": "code",
   "execution_count": 50,
   "metadata": {},
   "outputs": [],
   "source": [
    "Z = NH.point_from_ideal_list(\n",
    "    [\n",
    "        [one, P],\n",
    "        [Q, P*Q]\n",
    "    ]\n",
    ")"
   ]
  },
  {
   "cell_type": "code",
   "execution_count": 51,
   "metadata": {},
   "outputs": [
    {
     "data": {
      "text/plain": [
       "┌─────┬─────┐\n",
       "│ I₀₀ │ I₀₁ │\n",
       "├─────┼─────┤\n",
       "│ I₁₀ │ I₁₁ │\n",
       "└─────┴─────┘\n",
       "Ideals of CC[x]\n",
       "I₁₁ = <1>\n",
       "I₁₂ = <x>\n",
       "I₂₁ = <x-1>\n",
       "I₂₂ = <x²-x>"
      ]
     },
     "execution_count": 51,
     "metadata": {},
     "output_type": "execute_result"
    }
   ],
   "source": [
    "Z"
   ]
  },
  {
   "cell_type": "code",
   "execution_count": 52,
   "metadata": {},
   "outputs": [],
   "source": [
    "T = NH.tangent_space(Z, use_scipy=False)"
   ]
  },
  {
   "cell_type": "code",
   "execution_count": 53,
   "metadata": {},
   "outputs": [
    {
     "data": {
      "text/plain": [
       "array([[0, 0, 0.0, 0, -1.0, 0],\n",
       "       [0, 0, 1.0, -1.0, 0, -1.0],\n",
       "       [0, 0, 0.0, 0, 1.0, 0],\n",
       "       [0, 0, 0, 0.0, 1.0, 0.0],\n",
       "       [0, 1.0, -1.0, 0, -1.0, 0],\n",
       "       [0, 1.0, 0, -1.0, 0, -1.0],\n",
       "       [0, 0, 0.0, 0, -1.0, 0],\n",
       "       [-1.0, 0, 0, 0.0, 0, -1.0]], dtype=object)"
      ]
     },
     "execution_count": 53,
     "metadata": {},
     "output_type": "execute_result"
    }
   ],
   "source": [
    "T.constraints"
   ]
  },
  {
   "cell_type": "code",
   "execution_count": 54,
   "metadata": {},
   "outputs": [
    {
     "data": {
      "text/plain": [
       "2"
      ]
     },
     "execution_count": 54,
     "metadata": {},
     "output_type": "execute_result"
    }
   ],
   "source": [
    "T.dim()"
   ]
  },
  {
   "cell_type": "code",
   "execution_count": 55,
   "metadata": {},
   "outputs": [
    {
     "data": {
      "text/plain": [
       "array([[ 1.,  0.],\n",
       "       [-1.,  1.],\n",
       "       [-1.,  1.],\n",
       "       [ 0.,  1.],\n",
       "       [ 0.,  0.],\n",
       "       [-1.,  0.]])"
      ]
     },
     "execution_count": 55,
     "metadata": {},
     "output_type": "execute_result"
    }
   ],
   "source": [
    "T.basis()   # TODO: implement nice basis computation without scipy for simple cases"
   ]
  },
  {
   "cell_type": "code",
   "execution_count": 56,
   "metadata": {},
   "outputs": [
    {
     "data": {
      "text/plain": [
       "True"
      ]
     },
     "execution_count": 56,
     "metadata": {},
     "output_type": "execute_result"
    }
   ],
   "source": [
    "NH.smooth_at(Z)"
   ]
  },
  {
   "cell_type": "code",
   "execution_count": 57,
   "metadata": {},
   "outputs": [],
   "source": [
    "Z2 = NH.point_from_ideal_list(\n",
    "    [\n",
    "        [one, P],\n",
    "        [P, P*P]\n",
    "    ]\n",
    ")"
   ]
  },
  {
   "cell_type": "code",
   "execution_count": 58,
   "metadata": {},
   "outputs": [
    {
     "data": {
      "text/plain": [
       "False"
      ]
     },
     "execution_count": 58,
     "metadata": {},
     "output_type": "execute_result"
    }
   ],
   "source": [
    "NH.smooth_at(Z2)"
   ]
  },
  {
   "cell_type": "code",
   "execution_count": 59,
   "metadata": {},
   "outputs": [
    {
     "data": {
      "text/plain": [
       "3"
      ]
     },
     "execution_count": 59,
     "metadata": {},
     "output_type": "execute_result"
    }
   ],
   "source": [
    "NH.tangent_space(Z2).dim()"
   ]
  },
  {
   "cell_type": "code",
   "execution_count": 60,
   "metadata": {},
   "outputs": [
    {
     "data": {
      "text/plain": [
       "2"
      ]
     },
     "execution_count": 60,
     "metadata": {},
     "output_type": "execute_result"
    }
   ],
   "source": [
    "NH.dim_at(Z2)"
   ]
  },
  {
   "cell_type": "code",
   "execution_count": 61,
   "metadata": {},
   "outputs": [],
   "source": [
    "H1 = DoubleNestedHilbertScheme([2], R1)"
   ]
  },
  {
   "cell_type": "code",
   "execution_count": null,
   "metadata": {},
   "outputs": [],
   "source": []
  }
 ],
 "metadata": {
  "kernelspec": {
   "display_name": "Python 3",
   "language": "python",
   "name": "python3"
  },
  "language_info": {
   "codemirror_mode": {
    "name": "ipython",
    "version": 3
   },
   "file_extension": ".py",
   "mimetype": "text/x-python",
   "name": "python",
   "nbconvert_exporter": "python",
   "pygments_lexer": "ipython3",
   "version": "3.10.12"
  }
 },
 "nbformat": 4,
 "nbformat_minor": 2
}
