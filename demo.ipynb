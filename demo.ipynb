{
 "cells": [
  {
   "cell_type": "markdown",
   "metadata": {},
   "source": [
    "# Homomorphism spaces and Hilbert schemes of points"
   ]
  },
  {
   "cell_type": "markdown",
   "metadata": {},
   "source": [
    "In this notebook, we demonstrate some capabilities of the library.\\\n",
    "To use it, the python packages numpy, scipy and sympy need to be installed."
   ]
  },
  {
   "cell_type": "markdown",
   "metadata": {},
   "source": [
    "First import the library."
   ]
  },
  {
   "cell_type": "code",
   "execution_count": 1,
   "metadata": {},
   "outputs": [
    {
     "name": "stderr",
     "output_type": "stream",
     "text": [
      "/usr/lib/python3/dist-packages/scipy/__init__.py:146: UserWarning: A NumPy version >=1.17.3 and <1.25.0 is required for this version of SciPy (detected version 1.26.4\n",
      "  warnings.warn(f\"A NumPy version >={np_minversion} and <{np_maxversion}\"\n"
     ]
    }
   ],
   "source": [
    "from algebra_stuff import *"
   ]
  },
  {
   "cell_type": "markdown",
   "metadata": {},
   "source": [
    "(Optional) "
   ]
  },
  {
   "cell_type": "code",
   "execution_count": 2,
   "metadata": {},
   "outputs": [],
   "source": [
    "set_global_scope(globals())"
   ]
  },
  {
   "cell_type": "markdown",
   "metadata": {},
   "source": [
    "## Hilbert scheme of points"
   ]
  },
  {
   "cell_type": "markdown",
   "metadata": {},
   "source": [
    "Create a polynomial ring in 3 variables, then extract the variable symbols to use them later for defining elements of the ring."
   ]
  },
  {
   "cell_type": "code",
   "execution_count": 3,
   "metadata": {},
   "outputs": [
    {
     "name": "stdout",
     "output_type": "stream",
     "text": [
      "Setting global symbol 'x'\n",
      "Setting global symbol 'y'\n",
      "Setting global symbol 'z'\n"
     ]
    }
   ],
   "source": [
    "R = PolyRing(n = 3)\n",
    "x, y, z = R.symbols"
   ]
  },
  {
   "cell_type": "markdown",
   "metadata": {},
   "source": [
    "Define the ideal $I = (x^2+z, y-x, xz^2)$."
   ]
  },
  {
   "cell_type": "code",
   "execution_count": 4,
   "metadata": {},
   "outputs": [],
   "source": [
    "#I = ideal(x-z, x*y, x**2, y**4-x)\n",
    "#I = ideal(y**3-x**2, x**2+z**3, x**2*z)\n",
    "I = ideal(x**2+z, x-y, x*z**2)"
   ]
  },
  {
   "cell_type": "markdown",
   "metadata": {},
   "source": [
    "Note that the ideal will automatically be created in the last polynomial ring that was focused. Alternatively, one can use the syntax `R.ideal(...)` with `R` the desired ring (recommonded if there may be ambiguity for which ring to use). In general, a lot of methods of the API can take explicitely as input the ring to work with, and if not provided, the code will (naively) try to decide which ring to use."
   ]
  },
  {
   "cell_type": "markdown",
   "metadata": {},
   "source": [
    "Let's print the ring and the ideal to see how they look. The ideal is represented by its Gröbner basis."
   ]
  },
  {
   "cell_type": "code",
   "execution_count": 5,
   "metadata": {},
   "outputs": [
    {
     "name": "stdout",
     "output_type": "stream",
     "text": [
      "CC[x,y,z]\n",
      "\n",
      "<yz²,z³,y²+z,x-y>\n"
     ]
    }
   ],
   "source": [
    "print(R)\n",
    "print()\n",
    "print(I)"
   ]
  },
  {
   "cell_type": "markdown",
   "metadata": {},
   "source": [
    "Let's visualize the difference between the given generating set and the Gröbner basis of $I$.\\\n",
    "Note that the Gröbner basis contains more elements!\n",
    "Intuitively, this is because $z^3 = z^2\\cdot(x^2+z) - x\\cdot xz^2$ is in $I$, but its leading monomial is not a multiple of any of the generators."
   ]
  },
  {
   "cell_type": "code",
   "execution_count": 6,
   "metadata": {},
   "outputs": [
    {
     "name": "stdout",
     "output_type": "stream",
     "text": [
      "Generators of I:\t [x²+z, x-y, xz²]\n",
      "Gröbner basis of I:\t [yz², z³, y²+z, x-y]\n"
     ]
    }
   ],
   "source": [
    "print(\"Generators of I:\\t\", I.gens)\n",
    "print(\"Gröbner basis of I:\\t\", I.groebner_basis)"
   ]
  },
  {
   "cell_type": "code",
   "execution_count": 7,
   "metadata": {},
   "outputs": [
    {
     "name": "stdout",
     "output_type": "stream",
     "text": [
      "Length of Z = Spec R/I:\t 5\n"
     ]
    }
   ],
   "source": [
    "print(\"Length of Z = Spec R/I:\\t\", I.colength())"
   ]
  },
  {
   "cell_type": "markdown",
   "metadata": {},
   "source": [
    "Hence $Z = \\mathrm{Spec}\\,R/I$ is in $\\mathrm{Hilb}^5(\\mathbb{A}^3)$. The tangent space of the Hilbert scheme at $Z$ is\n",
    "$$\\mathrm{Hom}_R(I, R/I) = \\mathrm{Hom}_{R/I}(I/I^2, R/I).$$"
   ]
  },
  {
   "cell_type": "markdown",
   "metadata": {},
   "source": [
    "Computation of this can be achieved in several ways. First, one can define the different objects explicitely, then create the Hom space.\\\n",
    "For starters, we define the ring $S = R/I$ (note that the syntaxes `R//I` and `R/I` both create an object representing the quotient $R/I$, but the first is interpreted as a ring and the second as a module)."
   ]
  },
  {
   "cell_type": "code",
   "execution_count": 8,
   "metadata": {},
   "outputs": [],
   "source": [
    "S = R//I"
   ]
  },
  {
   "cell_type": "markdown",
   "metadata": {},
   "source": [
    "Next we define the $S$-modules representing $I/I^2$ and $R/I$."
   ]
  },
  {
   "cell_type": "code",
   "execution_count": 9,
   "metadata": {},
   "outputs": [],
   "source": [
    "M = I/I**2"
   ]
  },
  {
   "cell_type": "code",
   "execution_count": 10,
   "metadata": {},
   "outputs": [],
   "source": [
    "N = R/I"
   ]
  },
  {
   "cell_type": "markdown",
   "metadata": {},
   "source": [
    "Let's visualize the different objects we just created."
   ]
  },
  {
   "cell_type": "code",
   "execution_count": 11,
   "metadata": {},
   "outputs": [
    {
     "name": "stdout",
     "output_type": "stream",
     "text": [
      "    CC[x,y,z]    \n",
      "―――――――――――――――――\n",
      "<yz²,z³,y²+z,x-y>\n",
      "\n",
      "                            <yz²,z³,y²+z,x-y>                                                 CC[x,y,z]    \n",
      "―――――――――――――――――――――――――――――――――――――――――――――――――――――――――――――――――――――――――    module of    ―――――――――――――――――\n",
      "<y³z²+yz³,y²z³+z⁴,z⁵,y⁴+2y²z+z²,xyz²-y²z²,xz³-yz³,xy²-y³+xz-yz,x²-2xy+y²>                 <yz²,z³,y²+z,x-y>\n",
      "\n",
      "    CC[x,y,z]                         CC[x,y,z]    \n",
      "―――――――――――――――――    module of    ―――――――――――――――――\n",
      "<yz²,z³,y²+z,x-y>                 <yz²,z³,y²+z,x-y>\n"
     ]
    }
   ],
   "source": [
    "print(S)\n",
    "print()\n",
    "print(M)\n",
    "print()\n",
    "print(N)"
   ]
  },
  {
   "cell_type": "markdown",
   "metadata": {},
   "source": [
    "Now we define the space $\\mathrm{Hom}_S(M, N)$."
   ]
  },
  {
   "cell_type": "code",
   "execution_count": 12,
   "metadata": {},
   "outputs": [],
   "source": [
    "Hom = HomSpace(M, N)"
   ]
  },
  {
   "cell_type": "markdown",
   "metadata": {},
   "source": [
    "We can easily get the dimension of this space. We can also get other data, like a basis, but we'll showcase that later."
   ]
  },
  {
   "cell_type": "code",
   "execution_count": 13,
   "metadata": {},
   "outputs": [
    {
     "data": {
      "text/plain": [
       "15"
      ]
     },
     "execution_count": 13,
     "metadata": {},
     "output_type": "execute_result"
    }
   ],
   "source": [
    "Hom.dim()"
   ]
  },
  {
   "cell_type": "markdown",
   "metadata": {},
   "source": [
    "Alternatively, we can use the `HilbertScheme` abstraction without defining manually the various modules.\\\n",
    "First we define the Hilbert scheme of points of $\\mathrm{Spec}\\,R$ (note that it represents the union of the Hilbert scheme of $n$ points for all $n$)."
   ]
  },
  {
   "cell_type": "code",
   "execution_count": 14,
   "metadata": {},
   "outputs": [],
   "source": [
    "H = HilbertScheme(R)"
   ]
  },
  {
   "cell_type": "markdown",
   "metadata": {},
   "source": [
    "Next we get its tangent space at the point given by $I$. Here we set the parameter `use_scipy` to false (it is true by default), trading fast but approximate computations for (more) exact but slower ones. This doesn't affect dimension computations but works better for basis computation."
   ]
  },
  {
   "cell_type": "code",
   "execution_count": 15,
   "metadata": {},
   "outputs": [],
   "source": [
    "T = H.tangent_space(I, use_scipy=False)"
   ]
  },
  {
   "cell_type": "code",
   "execution_count": 16,
   "metadata": {},
   "outputs": [
    {
     "data": {
      "text/plain": [
       "15"
      ]
     },
     "execution_count": 16,
     "metadata": {},
     "output_type": "execute_result"
    }
   ],
   "source": [
    "T.dim()"
   ]
  },
  {
   "cell_type": "markdown",
   "metadata": {},
   "source": [
    "We can get a $\\mathbb{C}$-basis of the space (calling the basis method of the corresponding Hom space). This gives a numpy array where each element of the basis is encoded as a vector."
   ]
  },
  {
   "cell_type": "code",
   "execution_count": 17,
   "metadata": {},
   "outputs": [
    {
     "data": {
      "text/plain": [
       "(75, 15)"
      ]
     },
     "execution_count": 17,
     "metadata": {},
     "output_type": "execute_result"
    }
   ],
   "source": [
    "T.basis().shape"
   ]
  },
  {
   "cell_type": "markdown",
   "metadata": {},
   "source": [
    "We can get a nicer representation of the basis. Let's recover the Hom space corresonding to the tangent space and manipulate it directy."
   ]
  },
  {
   "cell_type": "code",
   "execution_count": 18,
   "metadata": {},
   "outputs": [],
   "source": [
    "hom_space = T.hom_space"
   ]
  },
  {
   "cell_type": "markdown",
   "metadata": {},
   "source": [
    "The following will give the basis as a list of matrices (with respect to the $\\mathbb{C}$-bases of the modules)."
   ]
  },
  {
   "cell_type": "code",
   "execution_count": 19,
   "metadata": {},
   "outputs": [],
   "source": [
    "B = hom_space.basis_as_matrices()"
   ]
  },
  {
   "cell_type": "code",
   "execution_count": 20,
   "metadata": {},
   "outputs": [
    {
     "data": {
      "text/plain": [
       "array([[ 0., -1.,  0.,  0.,  0.,  0.,  0.,  0.,  0.,  0.,  0.,  0.,  0.,\n",
       "         0.,  0.],\n",
       "       [ 0.,  0., -1.,  0.,  0.,  0.,  0.,  0.,  0.,  0., -1.,  0.,  0.,\n",
       "         0.,  0.],\n",
       "       [ 0.,  0.,  0.,  0.,  0., -1.,  0.,  0.,  0.,  0.,  0.,  0.,  0.,\n",
       "         0.,  0.],\n",
       "       [ 0.,  0.,  0.,  0.,  0.,  0.,  0., -1.,  0.,  0.,  0.,  0.,  0.,\n",
       "         0.,  0.],\n",
       "       [ 0.,  0.,  0.,  0.,  0.,  0.,  0.,  0.,  0.,  0.,  0.,  0., -1.,\n",
       "         0.,  0.]])"
      ]
     },
     "execution_count": 20,
     "metadata": {},
     "output_type": "execute_result"
    }
   ],
   "source": [
    "B[0]"
   ]
  },
  {
   "cell_type": "markdown",
   "metadata": {},
   "source": [
    "We can also get the basis as a list of morphisms that can be called with an object of the domain."
   ]
  },
  {
   "cell_type": "code",
   "execution_count": 21,
   "metadata": {},
   "outputs": [],
   "source": [
    "B_morph = hom_space.basis_as_morphisms()"
   ]
  },
  {
   "cell_type": "markdown",
   "metadata": {},
   "source": [
    "Let $\\varphi$ be the first element of the basis."
   ]
  },
  {
   "cell_type": "code",
   "execution_count": 22,
   "metadata": {},
   "outputs": [],
   "source": [
    "phi = B_morph[0]"
   ]
  },
  {
   "cell_type": "markdown",
   "metadata": {},
   "source": [
    "Generate a random element $f$ in the domain of $\\varphi$. Then get the image of $f$ through $\\varphi$."
   ]
  },
  {
   "cell_type": "code",
   "execution_count": 23,
   "metadata": {},
   "outputs": [
    {
     "name": "stdout",
     "output_type": "stream",
     "text": [
      "f in I/I^2:\t\t -3yz⁴+3y³z+4y²z²-5yz³-4z⁴+3y³-2xyz-xz²+8z³-5xy+3y²+2xz+yz-2z²-3x+3y-2z\n",
      "image of f in R/I:\t -3yz-8z²-3y+2z+2\n"
     ]
    }
   ],
   "source": [
    "f = phi.domain().random_element()\n",
    "\n",
    "print(\"f in I/I^2:\\t\\t\", f)\n",
    "print(\"image of f in R/I:\\t\", phi(f))"
   ]
  },
  {
   "cell_type": "markdown",
   "metadata": {},
   "source": [
    "### Counterexample to the parity conjecture"
   ]
  },
  {
   "cell_type": "code",
   "execution_count": 24,
   "metadata": {},
   "outputs": [],
   "source": [
    "I = R.ideal(x**2, x*y**2, x*y*z, x*z**2, y**2*z**2, y*z**3, z**4, y**3-x*z)"
   ]
  },
  {
   "cell_type": "code",
   "execution_count": 25,
   "metadata": {},
   "outputs": [],
   "source": [
    "T = H.tangent_space(I)"
   ]
  },
  {
   "cell_type": "code",
   "execution_count": 26,
   "metadata": {},
   "outputs": [
    {
     "name": "stdout",
     "output_type": "stream",
     "text": [
      "Colength of I:\t\t\t 12\n",
      "Dimension of tangent space:\t 45\n"
     ]
    }
   ],
   "source": [
    "print(\"Colength of I:\\t\\t\\t\", I.colength())\n",
    "print(\"Dimension of tangent space:\\t\", T.dim())"
   ]
  },
  {
   "cell_type": "markdown",
   "metadata": {},
   "source": [
    "## Double nested Hilbert schemes"
   ]
  },
  {
   "cell_type": "markdown",
   "metadata": {},
   "source": [
    "We start by defining a new polynomial ring of one variable and extracting a symbol for its variable."
   ]
  },
  {
   "cell_type": "code",
   "execution_count": 27,
   "metadata": {},
   "outputs": [
    {
     "name": "stdout",
     "output_type": "stream",
     "text": [
      "Setting global symbol 'x'\n"
     ]
    }
   ],
   "source": [
    "R1 = PolyRing(n=1)\n",
    "x, = R1.symbols"
   ]
  },
  {
   "cell_type": "markdown",
   "metadata": {},
   "source": [
    "Now we create a nested Hilbert scheme object, then visualize it."
   ]
  },
  {
   "cell_type": "code",
   "execution_count": 28,
   "metadata": {},
   "outputs": [],
   "source": [
    "NH431 = DoubleNestedHilbertScheme([4, 3, 1], R1)"
   ]
  },
  {
   "cell_type": "code",
   "execution_count": 29,
   "metadata": {},
   "outputs": [
    {
     "data": {
      "text/plain": [
       "┌─────┬─────┬─────┬─────┐\n",
       "│ Z₀₀ │ Z₀₁ │ Z₀₂ │ Z₀₃ │\n",
       "├─────┼─────┼─────┼─────┘\n",
       "│ Z₁₀ │ Z₁₁ │ Z₁₂ │\n",
       "├─────┼─────┴─────┘\n",
       "│ Z₂₀ │\n",
       "└─────┘"
      ]
     },
     "execution_count": 29,
     "metadata": {},
     "output_type": "execute_result"
    }
   ],
   "source": [
    "NH431"
   ]
  },
  {
   "cell_type": "markdown",
   "metadata": {},
   "source": [
    "Let's create a simpler nested scheme now to make computations."
   ]
  },
  {
   "cell_type": "code",
   "execution_count": 30,
   "metadata": {},
   "outputs": [],
   "source": [
    "NH = DoubleNestedHilbertScheme(diagram=[2, 2], R=R1)"
   ]
  },
  {
   "cell_type": "code",
   "execution_count": 31,
   "metadata": {},
   "outputs": [
    {
     "data": {
      "text/plain": [
       "┌─────┬─────┐\n",
       "│ Z₀₀ │ Z₀₁ │\n",
       "├─────┼─────┤\n",
       "│ Z₁₀ │ Z₁₁ │\n",
       "└─────┴─────┘"
      ]
     },
     "execution_count": 31,
     "metadata": {},
     "output_type": "execute_result"
    }
   ],
   "source": [
    "NH"
   ]
  },
  {
   "cell_type": "markdown",
   "metadata": {},
   "source": [
    "We define a point $Z$ in the scheme."
   ]
  },
  {
   "cell_type": "code",
   "execution_count": 32,
   "metadata": {},
   "outputs": [],
   "source": [
    "P = ideal(x)\n",
    "Q = ideal(x-1)\n",
    "one = ideal(1)"
   ]
  },
  {
   "cell_type": "code",
   "execution_count": 46,
   "metadata": {},
   "outputs": [],
   "source": [
    "Z = NH.point_from_ideal_list(\n",
    "    [\n",
    "        [one, P],\n",
    "        [Q, P*Q]\n",
    "    ]\n",
    ")"
   ]
  },
  {
   "cell_type": "code",
   "execution_count": 47,
   "metadata": {},
   "outputs": [
    {
     "data": {
      "text/plain": [
       "┌─────┬─────┐\n",
       "│ I₀₀ │ I₀₁ │\n",
       "├─────┼─────┤\n",
       "│ I₁₀ │ I₁₁ │\n",
       "└─────┴─────┘\n",
       "Ideals of CC[x]\n",
       "I₀₀ = <1>\n",
       "I₀₁ = <x>\n",
       "I₁₀ = <x-1>\n",
       "I₁₁ = <x²-x>"
      ]
     },
     "execution_count": 47,
     "metadata": {},
     "output_type": "execute_result"
    }
   ],
   "source": [
    "Z"
   ]
  },
  {
   "cell_type": "markdown",
   "metadata": {},
   "source": [
    "We can now get the tangent space at $Z$."
   ]
  },
  {
   "cell_type": "code",
   "execution_count": 76,
   "metadata": {},
   "outputs": [],
   "source": [
    "T = NH.tangent_space(Z, use_scipy=False)"
   ]
  },
  {
   "cell_type": "code",
   "execution_count": 44,
   "metadata": {},
   "outputs": [
    {
     "data": {
      "text/plain": [
       "2"
      ]
     },
     "execution_count": 44,
     "metadata": {},
     "output_type": "execute_result"
    }
   ],
   "source": [
    "T.dim()"
   ]
  },
  {
   "cell_type": "code",
   "execution_count": 51,
   "metadata": {},
   "outputs": [
    {
     "data": {
      "text/plain": [
       "array([[ 1.,  0.],\n",
       "       [-1.,  1.],\n",
       "       [-1.,  1.],\n",
       "       [ 0.,  1.],\n",
       "       [ 0.,  0.],\n",
       "       [-1.,  0.]])"
      ]
     },
     "execution_count": 51,
     "metadata": {},
     "output_type": "execute_result"
    }
   ],
   "source": [
    "T.basis()   # vectorised"
   ]
  },
  {
   "cell_type": "markdown",
   "metadata": {},
   "source": [
    "The space is smooth at $Z$."
   ]
  },
  {
   "cell_type": "code",
   "execution_count": 79,
   "metadata": {},
   "outputs": [
    {
     "data": {
      "text/plain": [
       "True"
      ]
     },
     "execution_count": 79,
     "metadata": {},
     "output_type": "execute_result"
    }
   ],
   "source": [
    "NH.smooth_at(Z)"
   ]
  },
  {
   "cell_type": "markdown",
   "metadata": {},
   "source": [
    "We define another point $Z_2$."
   ]
  },
  {
   "cell_type": "code",
   "execution_count": 53,
   "metadata": {},
   "outputs": [],
   "source": [
    "Z2 = NH.point_from_ideal_list(\n",
    "    [\n",
    "        [one, P],\n",
    "        [P, P*P]\n",
    "    ]\n",
    ")"
   ]
  },
  {
   "cell_type": "markdown",
   "metadata": {},
   "source": [
    "This time we do not have smoothness."
   ]
  },
  {
   "cell_type": "code",
   "execution_count": 54,
   "metadata": {},
   "outputs": [
    {
     "data": {
      "text/plain": [
       "False"
      ]
     },
     "execution_count": 54,
     "metadata": {},
     "output_type": "execute_result"
    }
   ],
   "source": [
    "NH.smooth_at(Z2)"
   ]
  },
  {
   "cell_type": "markdown",
   "metadata": {},
   "source": [
    "Indeed the tangent space has dimension 3 but the space only dimension 2."
   ]
  },
  {
   "cell_type": "code",
   "execution_count": 63,
   "metadata": {},
   "outputs": [
    {
     "data": {
      "text/plain": [
       "3"
      ]
     },
     "execution_count": 63,
     "metadata": {},
     "output_type": "execute_result"
    }
   ],
   "source": [
    "NH.tangent_space(Z2).dim()"
   ]
  },
  {
   "cell_type": "code",
   "execution_count": 81,
   "metadata": {},
   "outputs": [
    {
     "data": {
      "text/plain": [
       "2"
      ]
     },
     "execution_count": 81,
     "metadata": {},
     "output_type": "execute_result"
    }
   ],
   "source": [
    "NH.dim_at(Z2)"
   ]
  }
 ],
 "metadata": {
  "kernelspec": {
   "display_name": "Python 3",
   "language": "python",
   "name": "python3"
  },
  "language_info": {
   "codemirror_mode": {
    "name": "ipython",
    "version": 3
   },
   "file_extension": ".py",
   "mimetype": "text/x-python",
   "name": "python",
   "nbconvert_exporter": "python",
   "pygments_lexer": "ipython3",
   "version": "3.10.12"
  }
 },
 "nbformat": 4,
 "nbformat_minor": 2
}
